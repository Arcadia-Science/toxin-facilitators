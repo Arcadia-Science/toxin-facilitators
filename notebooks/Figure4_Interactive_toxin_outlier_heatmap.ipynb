{
 "cells": [
  {
   "cell_type": "markdown",
   "id": "0f2637d9-03a7-4e02-b25d-8551d471ded6",
   "metadata": {},
   "source": [
    "# Toxin heatmap\n",
    "\n",
    "This notebook generates an interactive heatmap of the presence/absence of toxin outliers using [`plotly`](https://plotly.com/python/).\n",
    "\n",
    "---\n",
    "\n",
    "## 0. Install [`arcadia_pycolor`](https://github.com/Arcadia-Science/arcadia-pycolor)\n",
    "This package distributes Arcadia's colors for use in Python. See more info [here](https://github.com/Arcadia-Science/arcadia-pycolor)."
   ]
  },
  {
   "cell_type": "code",
   "execution_count": null,
   "id": "64e5262d-95df-4d67-9f1a-8ac5c2f945bd",
   "metadata": {
    "tags": []
   },
   "outputs": [],
   "source": [
    "!pip install git+https://github.com/Arcadia-Science/arcadia-pycolor.git#egg=arcadia_pycolor --upgrade"
   ]
  },
  {
   "cell_type": "markdown",
   "id": "7acd1d7f-937a-4090-a2c8-5c06cfb4fb94",
   "metadata": {},
   "source": [
    "----\n",
    "## 1. Import necessary packages for plotting"
   ]
  },
  {
   "cell_type": "code",
   "execution_count": null,
   "id": "36b32544-b894-4ced-bda2-58b14b7f0797",
   "metadata": {
    "tags": []
   },
   "outputs": [],
   "source": [
    "import plotly.express as px\n",
    "import plotly.graph_objects as go\n",
    "import pandas as pd\n",
    "import numpy as np\n",
    "import arcadia_pycolor as apc"
   ]
  },
  {
   "cell_type": "markdown",
   "id": "0b4ac2f3-1297-456c-b8ce-19b7ae1375f3",
   "metadata": {},
   "source": [
    "---\n",
    "## 2. Load and process data"
   ]
  },
  {
   "cell_type": "code",
   "execution_count": null,
   "id": "e2bba111-1bf3-4556-9020-0b9ee903bce7",
   "metadata": {
    "tags": []
   },
   "outputs": [],
   "source": [
    "# read dataframe\n",
    "# the matrix is a presence/ absence matrix where each row is a species and each column is a Uniprot ID\n",
    "# there is an extra column and an extra row that describe the category of each species or Uniprot ID\n",
    "df = pd.read_csv('Matrix_Outliers.tsv', sep = '\\t')\n",
    "\n",
    "# this extracts the species name vs species category as a two-column dataframe \n",
    "species_cat = df[['Species', 'Species_Cat']]\n",
    "species_cat = species_cat[species_cat['Species'] != 'Toxin_desc'] # this removes the Toxin_desc row which is irrelevant\n",
    "\n",
    "# set the order of categories for plotting\n",
    "cat_order = ['Snake', 'Blood worm', 'Cone snail', 'Wasp and ant', 'Centipede', 'Scorpion', 'Spider', 'Tick']\n",
    "# assign each category to a number from 1 to the length of the categories\n",
    "# this is used to be able to color individual cells of the heatmap based on species\n",
    "cat_vals = np.arange(1, len(cat_order) + 1)\n",
    "\n",
    "# instantiate the list of colors\n",
    "colors = ['#efefef'] + apc.Palettes['arcadia:AccentAllOrdered'].list[0: len(cat_order)]\n",
    "\n",
    "# creates a linear heatmap based on the number of bins of colors\n",
    "# in this case, the number of categories\n",
    "def make_discrete_color_map(color_list):\n",
    "    # create a range of values from 0 to 1\n",
    "    bins = [i for i in np.arange(0, 1, 1 / (len(color_list)))] + [1]\n",
    "    # pair those values together as a list of paired lists, since Plotly uses repeated values to create hard boundaries between color blocks\n",
    "    pairs = [[bins[i], bins[i + 1]] for i in np.arange(len(bins[:-1]))]\n",
    "    \n",
    "    # flatten that paired list of indices\n",
    "    flat_list = [num for sublist in pairs for num in sublist]\n",
    "    \n",
    "    # pair the colors with each positional value, returning as a new list of paired values\n",
    "    return_list = [[flat_list[i], color_list[int(i // 2)]] for i in np.arange(len(flat_list))]\n",
    "    \n",
    "    return return_list\n",
    "\n",
    "# run the above function\n",
    "color_map = make_discrete_color_map(colors)\n",
    "\n",
    "# create a dictionary between the category numbers and their values\n",
    "cat_val_dict = dict(zip(cat_order, cat_vals))\n",
    "\n",
    "# generate a collector dataframe for re-sorting the data\n",
    "species_cat_sorted = pd.DataFrame()\n",
    "\n",
    "# sort the data and add it to the new dataframe\n",
    "for cat in cat_order:\n",
    "    sliced_df = species_cat[species_cat['Species_Cat'] == cat]\n",
    "    species_cat_sorted = pd.concat([species_cat_sorted, sliced_df])\n",
    "    \n",
    "# create a dictionary for the categories and species within them\n",
    "species_cat_dict = dict(zip(species_cat_sorted['Species'], species_cat_sorted['Species_Cat']))\n",
    "\n",
    "#######################################################\n",
    "'''\n",
    "This section isn't actually used for plotting, \n",
    "but if you wanted to figure out how to display the different categories of proteins, \n",
    "this processes them into a DataFrame for you.\n",
    "'''\n",
    "\n",
    "# create a dataframe that's just the toxin descriptions\n",
    "toxin_desc = pd.DataFrame(df[df['Species'] == 'Toxin_desc'].drop(columns = ['Species', 'Species_Cat']).iloc[0])\n",
    "toxin_desc.reset_index(inplace = True)\n",
    "toxin_desc.rename(columns = {'index': 'UniProtID', 0: 'description'}, inplace = True)\n",
    "\n",
    "# make a dictionary out of that\n",
    "toxin_desc_dict = dict(zip(toxin_desc['UniProtID'].values, toxin_desc['description'].values))\n",
    "\n",
    "#######################################################\n",
    "\n",
    "# filter the full presence-absence dataframe, setting the index and columns to be viable for heatmap plotting\n",
    "matrix = df[df['Species'] != 'Toxin_desc']\n",
    "matrix.index = matrix['Species']\n",
    "matrix.drop(columns = ['Species', 'Species_Cat'], inplace = True)\n",
    "\n",
    "# transpose the matrix so species are on the X and uniprot IDs are on the Y\n",
    "matrix = matrix.T\n",
    "matrix = matrix[species_cat_sorted['Species'].values]\n",
    "\n",
    "# make sure every cell is an integer\n",
    "for col in matrix:\n",
    "    category = species_cat_dict[col]\n",
    "    matrix[col] = cat_val_dict[category] * matrix[col].astype(int)\n",
    "\n",
    "display(matrix)"
   ]
  },
  {
   "cell_type": "markdown",
   "id": "732d09b2-d9b0-40ec-ac1a-4ab74163c648",
   "metadata": {},
   "source": [
    "---\n",
    "## 3. Generate the plot"
   ]
  },
  {
   "cell_type": "code",
   "execution_count": null,
   "id": "e097a21a-7dcd-4ff0-9598-5da7454669ad",
   "metadata": {
    "tags": []
   },
   "outputs": [],
   "source": [
    "# generate a hovertext list collector\n",
    "hovertext = list()\n",
    "\n",
    "# iterate over the cells, generating a hovertext entry for each cell\n",
    "for yi, yy in enumerate(matrix.index):\n",
    "    hovertext.append(list())\n",
    "    for xi, xx in enumerate(matrix.columns):\n",
    "        hovertext[-1].append('<b>Taxon:</b> {}<br><b>Species:</b> {}<br><br><b>Protein Category:</b> {}<br><b>UniProt ID:</b> {}'.format(species_cat_dict[xx], xx, toxin_desc_dict[yy], yy))\n",
    "\n",
    "# make an empty figure\n",
    "fig1 = go.Figure()\n",
    "\n",
    "# add the heatmap ot the figure\n",
    "fig1.add_trace(go.Heatmap(z = matrix, x = matrix.columns, y = matrix.index, \n",
    "                          colorscale = color_map, # this controls the species - color assignments\n",
    "                          xgap = 1, # these two values control the amount of space between cells; space was added so we can see the grid\n",
    "                          ygap = 1,\n",
    "                          hoverinfo = 'text', # sets the hover-over info to whatever is passed to the \"text\" argument below\n",
    "                          text = hovertext, # pulls in the hovertext we generated in the for loops above\n",
    "                          colorbar = dict(\n",
    "                                title=\"<b>Taxon</b>\",\n",
    "                                titleside=\"top\",\n",
    "                                tickmode=\"array\",\n",
    "                                tickvals=[0.5, 1.375, 2.25, 3.125, 4,4.875, 5.75, 6.625, 7.5], # these are set so that labels are centered relative to their blocks\n",
    "                                ticktext= ['Not found'] + cat_order,\n",
    "                              thickness = 24, # controls the width of the colorbar\n",
    "                              len = 0.15, # controls the length of the colorbar as a fraction of the total heatmap y length\n",
    "                              tickfont_size = 12, # sets font of labels to the right of colorbar\n",
    "                              y = 1, # sets the y position of the top of the color bar...\n",
    "                              yanchor = 'top', # because we set yanchor to top\n",
    "                              xpad = 3, # controls space around the legend; this is the minimum value to avoid cutting off the \"Wasp and ant\" text\n",
    "                              ypad = 0\n",
    "                            )\n",
    "                         ))\n",
    "\n",
    "# set the size of the figure and make the margins really small\n",
    "fig1.update_layout(\n",
    "    width = 865, height = 1550, font_size = 8,\n",
    "    margin=dict(l=5, r=5, t=5, b=5)\n",
    ")\n",
    "\n",
    "# the font sizes here are the maximum possible for this set of dimensions\n",
    "fig1.update_yaxes(tickfont_size = 9.5)\n",
    "fig1.update_xaxes(tickangle = -90, tickfont_size = 9.5, side = 'top')\n",
    "\n",
    "# make the font conform with Arcadia's standards\n",
    "fig1.update_layout(font=dict(family=\"Arial\"))\n",
    "\n",
    "# this controls what buttons are in the hover-over menu; most don't make sense for this plot type so I removed them\n",
    "plot_config = {'modeBarButtonsToRemove': ['zoom', 'pan', 'zoomIn', 'zoomOut', 'autoscale']}\n",
    "\n",
    "# save the figure\n",
    "fig1.write_html('Fig4_outliers_toxin_heatmap_interactive.html', \n",
    "                config=plot_config)\n",
    "\n",
    "# show the figure using the same plot config parameters as used for saving\n",
    "fig1.show(config=plot_config)"
   ]
  },
  {
   "cell_type": "code",
   "execution_count": null,
   "id": "84b8e751",
   "metadata": {},
   "outputs": [],
   "source": []
  }
 ],
 "metadata": {
  "kernelspec": {
   "display_name": "Python 3 (ipykernel)",
   "language": "python",
   "name": "python3"
  },
  "language_info": {
   "codemirror_mode": {
    "name": "ipython",
    "version": 3
   },
   "file_extension": ".py",
   "mimetype": "text/x-python",
   "name": "python",
   "nbconvert_exporter": "python",
   "pygments_lexer": "ipython3",
   "version": "3.11.4"
  }
 },
 "nbformat": 4,
 "nbformat_minor": 5
}
